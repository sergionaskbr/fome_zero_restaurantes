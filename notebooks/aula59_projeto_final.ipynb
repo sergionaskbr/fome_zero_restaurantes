{
 "cells": [
  {
   "cell_type": "markdown",
   "id": "4d4e5388-06bd-4755-aa75-5255641f9ac9",
   "metadata": {},
   "source": [
    "# Limpeza e Tratamento dos Dados"
   ]
  },
  {
   "cell_type": "markdown",
   "id": "142209c8-b9e9-4976-9173-5c6053ba1981",
   "metadata": {},
   "source": [
    "## Imports"
   ]
  },
  {
   "cell_type": "code",
   "execution_count": 1,
   "id": "1c1818bf-0337-4f0e-9d3f-d653dca2e4e2",
   "metadata": {},
   "outputs": [],
   "source": [
    "import pandas as pd\n",
    "import inflection"
   ]
  },
  {
   "cell_type": "markdown",
   "id": "5712ff23-dc6f-4057-bb61-b5e9e5abb411",
   "metadata": {},
   "source": [
    "## Helper Variables"
   ]
  },
  {
   "cell_type": "code",
   "execution_count": 2,
   "id": "9fda086c-ab8c-482c-86df-314c7bc74353",
   "metadata": {},
   "outputs": [],
   "source": [
    "RAW_DATA_PATH = f\"../dataset/zomato.csv\"\n",
    "\n",
    "COUNTRIES = {\n",
    "    1: \"India\",\n",
    "    14: \"Australia\",\n",
    "    30: \"Brazil\",\n",
    "    37: \"Canada\",\n",
    "    94: \"Indonesia\",\n",
    "    148: \"New Zealand\",\n",
    "    162: \"Philippines\",\n",
    "    166: \"Qatar\",\n",
    "    184: \"Singapore\",\n",
    "    189: \"South Africa\",\n",
    "    191: \"Sri Lanka\",\n",
    "    208: \"Turkey\",\n",
    "    214: \"United Arab Emirates\",\n",
    "    215: \"England\",\n",
    "    216: \"United States of America\",\n",
    "}\n",
    "\n",
    "COLORS = {\n",
    "    \"3F7E00\": \"darkgreen\",\n",
    "    \"5BA829\": \"green\",\n",
    "    \"9ACD32\": \"lightgreen\",\n",
    "    \"CDD614\": \"orange\",\n",
    "    \"FFBA00\": \"red\",\n",
    "    \"CBCBC8\": \"darkred\",\n",
    "    \"FF7800\": \"darkred\",\n",
    "}"
   ]
  },
  {
   "cell_type": "markdown",
   "id": "3339b7ab-3096-42e0-9e7b-b6bb74ab305f",
   "metadata": {},
   "source": [
    "## Helper Functions"
   ]
  },
  {
   "cell_type": "code",
   "execution_count": 3,
   "id": "8c59f687-5b40-4fd2-9ad1-6ef1fb9131f6",
   "metadata": {},
   "outputs": [],
   "source": [
    "def country_name(country_id):\n",
    "  return COUNTRIES[country_id]\n",
    "\n",
    "def color_name(color_code):\n",
    "  return COLORS[color_code]\n",
    "\n",
    "def create_price_type(price_range):\n",
    "  if price_range == 1:\n",
    "    return \"cheap\"\n",
    "  elif price_range == 2:\n",
    "    return \"normal\"\n",
    "  elif price_range == 3:\n",
    "    return \"expensive\"\n",
    "  else:\n",
    "    return \"gourmet\"\n",
    "\n",
    "def adjust_columns_order(dataframe):\n",
    "    df = dataframe.copy()\n",
    "\n",
    "    new_cols_order = [\n",
    "        \"restaurant_id\",\n",
    "        \"restaurant_name\",\n",
    "        \"country\",\n",
    "        \"city\",\n",
    "        \"address\",\n",
    "        \"locality\",\n",
    "        \"locality_verbose\",\n",
    "        \"longitude\",\n",
    "        \"latitude\",\n",
    "        \"cuisines\",\n",
    "        \"price_type\",\n",
    "        \"average_cost_for_two\",\n",
    "        \"currency\",\n",
    "        \"has_table_booking\",\n",
    "        \"has_online_delivery\",\n",
    "        \"is_delivering_now\",\n",
    "        \"aggregate_rating\",\n",
    "        \"rating_color\",\n",
    "        \"color_name\",\n",
    "        \"rating_text\",\n",
    "        \"votes\",\n",
    "    ]\n",
    "\n",
    "    return df.loc[:, new_cols_order]\n",
    "\n",
    "def process_data(file_path):\n",
    "    df = pd.read_csv(file_path)\n",
    "    df = df.dropna()\n",
    "    df = rename_columns(df)\n",
    "    df[\"price_type\"] = df.loc[:, \"price_range\"].apply(lambda x: create_price_type(x))\n",
    "    df[\"country\"] = df.loc[:, \"country_code\"].apply(lambda x: country_name(x))\n",
    "    df[\"color_name\"] = df.loc[:, \"rating_color\"].apply(lambda x: color_name(x))\n",
    "    df[\"cuisines\"] = df.loc[:, \"cuisines\"].apply(lambda x: x.split(\",\")[0])\n",
    "    df = df.drop_duplicates()\n",
    "    df = adjust_columns_order(df)\n",
    "    df.to_csv(\"../dataset/processed.csv\", index=False)\n",
    "    return df\n",
    "\n",
    "def rename_columns(dataframe):\n",
    "    df = dataframe.copy()\n",
    "    title = lambda x: inflection.titleize(x)\n",
    "    snakecase = lambda x: inflection.underscore(x)\n",
    "    spaces = lambda x: x.replace(\" \", \"\")\n",
    "    cols_old = list(df.columns)\n",
    "    cols_old = list(map(title, cols_old))\n",
    "    cols_old = list(map(spaces, cols_old))\n",
    "    cols_new = list(map(snakecase, cols_old))\n",
    "    df.columns = cols_new\n",
    "    return df"
   ]
  },
  {
   "cell_type": "markdown",
   "id": "9f60c3b1-06d3-4907-ad17-8df70fd129b9",
   "metadata": {},
   "source": [
    "## Load Data"
   ]
  },
  {
   "cell_type": "code",
   "execution_count": 4,
   "id": "35dfc7cd-2b03-4bd8-ad68-2675cdaecd67",
   "metadata": {},
   "outputs": [
    {
     "data": {
      "text/html": [
       "<div>\n",
       "<style scoped>\n",
       "    .dataframe tbody tr th:only-of-type {\n",
       "        vertical-align: middle;\n",
       "    }\n",
       "\n",
       "    .dataframe tbody tr th {\n",
       "        vertical-align: top;\n",
       "    }\n",
       "\n",
       "    .dataframe thead th {\n",
       "        text-align: right;\n",
       "    }\n",
       "</style>\n",
       "<table border=\"1\" class=\"dataframe\">\n",
       "  <thead>\n",
       "    <tr style=\"text-align: right;\">\n",
       "      <th></th>\n",
       "      <th>restaurant_id</th>\n",
       "      <th>restaurant_name</th>\n",
       "      <th>country</th>\n",
       "      <th>city</th>\n",
       "      <th>address</th>\n",
       "      <th>locality</th>\n",
       "      <th>locality_verbose</th>\n",
       "      <th>longitude</th>\n",
       "      <th>latitude</th>\n",
       "      <th>cuisines</th>\n",
       "      <th>...</th>\n",
       "      <th>average_cost_for_two</th>\n",
       "      <th>currency</th>\n",
       "      <th>has_table_booking</th>\n",
       "      <th>has_online_delivery</th>\n",
       "      <th>is_delivering_now</th>\n",
       "      <th>aggregate_rating</th>\n",
       "      <th>rating_color</th>\n",
       "      <th>color_name</th>\n",
       "      <th>rating_text</th>\n",
       "      <th>votes</th>\n",
       "    </tr>\n",
       "  </thead>\n",
       "  <tbody>\n",
       "    <tr>\n",
       "      <th>0</th>\n",
       "      <td>6310675</td>\n",
       "      <td>Mama Lou's Italian Kitchen</td>\n",
       "      <td>Philippines</td>\n",
       "      <td>Las Piñas City</td>\n",
       "      <td>Block 1, Lot 36, Tropical Avenue Corner Tropic...</td>\n",
       "      <td>BF International</td>\n",
       "      <td>BF International, Las Piñas City</td>\n",
       "      <td>121.009787</td>\n",
       "      <td>14.447615</td>\n",
       "      <td>Italian</td>\n",
       "      <td>...</td>\n",
       "      <td>1100</td>\n",
       "      <td>Botswana Pula(P)</td>\n",
       "      <td>1</td>\n",
       "      <td>0</td>\n",
       "      <td>0</td>\n",
       "      <td>4.6</td>\n",
       "      <td>3F7E00</td>\n",
       "      <td>darkgreen</td>\n",
       "      <td>Excellent</td>\n",
       "      <td>619</td>\n",
       "    </tr>\n",
       "    <tr>\n",
       "      <th>2</th>\n",
       "      <td>6314542</td>\n",
       "      <td>Blackbird</td>\n",
       "      <td>Philippines</td>\n",
       "      <td>Makati City</td>\n",
       "      <td>Nielson Tower, Ayala Triangle Gardens, Salcedo...</td>\n",
       "      <td>Ayala Triangle Gardens, Salcedo Village, Makat...</td>\n",
       "      <td>Ayala Triangle Gardens, Salcedo Village, Makat...</td>\n",
       "      <td>121.024562</td>\n",
       "      <td>14.556042</td>\n",
       "      <td>European</td>\n",
       "      <td>...</td>\n",
       "      <td>3100</td>\n",
       "      <td>Botswana Pula(P)</td>\n",
       "      <td>0</td>\n",
       "      <td>0</td>\n",
       "      <td>0</td>\n",
       "      <td>4.7</td>\n",
       "      <td>3F7E00</td>\n",
       "      <td>darkgreen</td>\n",
       "      <td>Excellent</td>\n",
       "      <td>469</td>\n",
       "    </tr>\n",
       "    <tr>\n",
       "      <th>3</th>\n",
       "      <td>6301293</td>\n",
       "      <td>Banapple</td>\n",
       "      <td>Philippines</td>\n",
       "      <td>Makati City</td>\n",
       "      <td>Ayala Triangle Gardens, Salcedo Village, Makat...</td>\n",
       "      <td>Ayala Triangle Gardens, Salcedo Village, Makat...</td>\n",
       "      <td>Ayala Triangle Gardens, Salcedo Village, Makat...</td>\n",
       "      <td>121.023171</td>\n",
       "      <td>14.556196</td>\n",
       "      <td>Filipino</td>\n",
       "      <td>...</td>\n",
       "      <td>800</td>\n",
       "      <td>Botswana Pula(P)</td>\n",
       "      <td>0</td>\n",
       "      <td>0</td>\n",
       "      <td>0</td>\n",
       "      <td>4.4</td>\n",
       "      <td>5BA829</td>\n",
       "      <td>green</td>\n",
       "      <td>Very Good</td>\n",
       "      <td>867</td>\n",
       "    </tr>\n",
       "    <tr>\n",
       "      <th>4</th>\n",
       "      <td>6315689</td>\n",
       "      <td>Bad Bird</td>\n",
       "      <td>Philippines</td>\n",
       "      <td>Makati City</td>\n",
       "      <td>Hole In The Wall, Floor 4, Century City Mall, ...</td>\n",
       "      <td>Century City Mall, Poblacion, Makati City</td>\n",
       "      <td>Century City Mall, Poblacion, Makati City, Mak...</td>\n",
       "      <td>121.027708</td>\n",
       "      <td>14.565899</td>\n",
       "      <td>American</td>\n",
       "      <td>...</td>\n",
       "      <td>700</td>\n",
       "      <td>Botswana Pula(P)</td>\n",
       "      <td>0</td>\n",
       "      <td>0</td>\n",
       "      <td>0</td>\n",
       "      <td>4.4</td>\n",
       "      <td>5BA829</td>\n",
       "      <td>green</td>\n",
       "      <td>Very Good</td>\n",
       "      <td>858</td>\n",
       "    </tr>\n",
       "    <tr>\n",
       "      <th>5</th>\n",
       "      <td>6304833</td>\n",
       "      <td>Manam</td>\n",
       "      <td>Philippines</td>\n",
       "      <td>Makati City</td>\n",
       "      <td>Level 1, Greenbelt 2, Ayala Center, Greenbelt,...</td>\n",
       "      <td>Greenbelt 2, San Lorenzo, Makati City</td>\n",
       "      <td>Greenbelt 2, San Lorenzo, Makati City, Makati ...</td>\n",
       "      <td>121.020380</td>\n",
       "      <td>14.552351</td>\n",
       "      <td>Filipino</td>\n",
       "      <td>...</td>\n",
       "      <td>700</td>\n",
       "      <td>Botswana Pula(P)</td>\n",
       "      <td>0</td>\n",
       "      <td>0</td>\n",
       "      <td>0</td>\n",
       "      <td>4.7</td>\n",
       "      <td>3F7E00</td>\n",
       "      <td>darkgreen</td>\n",
       "      <td>Excellent</td>\n",
       "      <td>930</td>\n",
       "    </tr>\n",
       "  </tbody>\n",
       "</table>\n",
       "<p>5 rows × 21 columns</p>\n",
       "</div>"
      ],
      "text/plain": [
       "   restaurant_id             restaurant_name      country            city  \\\n",
       "0        6310675  Mama Lou's Italian Kitchen  Philippines  Las Piñas City   \n",
       "2        6314542                   Blackbird  Philippines     Makati City   \n",
       "3        6301293                    Banapple  Philippines     Makati City   \n",
       "4        6315689                    Bad Bird  Philippines     Makati City   \n",
       "5        6304833                       Manam  Philippines     Makati City   \n",
       "\n",
       "                                             address  \\\n",
       "0  Block 1, Lot 36, Tropical Avenue Corner Tropic...   \n",
       "2  Nielson Tower, Ayala Triangle Gardens, Salcedo...   \n",
       "3  Ayala Triangle Gardens, Salcedo Village, Makat...   \n",
       "4  Hole In The Wall, Floor 4, Century City Mall, ...   \n",
       "5  Level 1, Greenbelt 2, Ayala Center, Greenbelt,...   \n",
       "\n",
       "                                            locality  \\\n",
       "0                                   BF International   \n",
       "2  Ayala Triangle Gardens, Salcedo Village, Makat...   \n",
       "3  Ayala Triangle Gardens, Salcedo Village, Makat...   \n",
       "4          Century City Mall, Poblacion, Makati City   \n",
       "5              Greenbelt 2, San Lorenzo, Makati City   \n",
       "\n",
       "                                    locality_verbose   longitude   latitude  \\\n",
       "0                   BF International, Las Piñas City  121.009787  14.447615   \n",
       "2  Ayala Triangle Gardens, Salcedo Village, Makat...  121.024562  14.556042   \n",
       "3  Ayala Triangle Gardens, Salcedo Village, Makat...  121.023171  14.556196   \n",
       "4  Century City Mall, Poblacion, Makati City, Mak...  121.027708  14.565899   \n",
       "5  Greenbelt 2, San Lorenzo, Makati City, Makati ...  121.020380  14.552351   \n",
       "\n",
       "   cuisines  ... average_cost_for_two          currency has_table_booking  \\\n",
       "0   Italian  ...                 1100  Botswana Pula(P)                 1   \n",
       "2  European  ...                 3100  Botswana Pula(P)                 0   \n",
       "3  Filipino  ...                  800  Botswana Pula(P)                 0   \n",
       "4  American  ...                  700  Botswana Pula(P)                 0   \n",
       "5  Filipino  ...                  700  Botswana Pula(P)                 0   \n",
       "\n",
       "   has_online_delivery  is_delivering_now  aggregate_rating  rating_color  \\\n",
       "0                    0                  0               4.6        3F7E00   \n",
       "2                    0                  0               4.7        3F7E00   \n",
       "3                    0                  0               4.4        5BA829   \n",
       "4                    0                  0               4.4        5BA829   \n",
       "5                    0                  0               4.7        3F7E00   \n",
       "\n",
       "  color_name rating_text votes  \n",
       "0  darkgreen   Excellent   619  \n",
       "2  darkgreen   Excellent   469  \n",
       "3      green   Very Good   867  \n",
       "4      green   Very Good   858  \n",
       "5  darkgreen   Excellent   930  \n",
       "\n",
       "[5 rows x 21 columns]"
      ]
     },
     "execution_count": 4,
     "metadata": {},
     "output_type": "execute_result"
    }
   ],
   "source": [
    "df_raw = pd.read_csv(RAW_DATA_PATH)\n",
    "df1 = df_raw.copy()\n",
    "df1 = rename_columns(df1)\n",
    "df1 = df1.dropna()\n",
    "df2 = process_data(RAW_DATA_PATH)\n",
    "df2.head()"
   ]
  },
  {
   "cell_type": "markdown",
   "id": "c4804eb2-3781-424f-b798-a0591b8c719d",
   "metadata": {
    "jp-MarkdownHeadingCollapsed": true
   },
   "source": [
    "# Geral"
   ]
  },
  {
   "cell_type": "markdown",
   "id": "ede981f5-92d9-4806-84cf-b723041c1aa2",
   "metadata": {},
   "source": [
    "1. Quantos restaurantes únicos estão registrados?"
   ]
  },
  {
   "cell_type": "code",
   "execution_count": 24,
   "id": "f0fc9654-94c0-4eca-8e4f-368223d36ea5",
   "metadata": {},
   "outputs": [
    {
     "data": {
      "text/plain": [
       "6929"
      ]
     },
     "execution_count": 24,
     "metadata": {},
     "output_type": "execute_result"
    }
   ],
   "source": [
    "df2['restaurant_id'].nunique()"
   ]
  },
  {
   "cell_type": "markdown",
   "id": "193e964b-d540-4562-8d88-d4b87bd2f92c",
   "metadata": {},
   "source": [
    "2. Quantos países únicos estão registrados?"
   ]
  },
  {
   "cell_type": "code",
   "execution_count": 26,
   "id": "55858584-298a-4bf4-b3e4-9b78f974db81",
   "metadata": {},
   "outputs": [
    {
     "data": {
      "text/plain": [
       "15"
      ]
     },
     "execution_count": 26,
     "metadata": {},
     "output_type": "execute_result"
    }
   ],
   "source": [
    "df2['country'].nunique()"
   ]
  },
  {
   "cell_type": "markdown",
   "id": "074c7736-e8f8-405f-8599-0e5a06cf67b9",
   "metadata": {},
   "source": [
    "3. Quantas cidades únicas estão registradas?"
   ]
  },
  {
   "cell_type": "code",
   "execution_count": 27,
   "id": "a3668b40-7068-4042-a7c3-ad6e3f35d4c5",
   "metadata": {},
   "outputs": [
    {
     "data": {
      "text/plain": [
       "125"
      ]
     },
     "execution_count": 27,
     "metadata": {},
     "output_type": "execute_result"
    }
   ],
   "source": [
    "df2['city'].nunique()"
   ]
  },
  {
   "cell_type": "markdown",
   "id": "9e4a85ae-0b1d-487a-a04a-601c8e04f35a",
   "metadata": {},
   "source": [
    "4. Qual o total de avaliações feitas?"
   ]
  },
  {
   "cell_type": "code",
   "execution_count": 29,
   "id": "2be8ff1a-cd6d-4870-81c3-0020e8388f0c",
   "metadata": {},
   "outputs": [
    {
     "data": {
      "text/plain": [
       "4194533"
      ]
     },
     "execution_count": 29,
     "metadata": {},
     "output_type": "execute_result"
    }
   ],
   "source": [
    "df2['votes'].sum()"
   ]
  },
  {
   "cell_type": "markdown",
   "id": "cac8a85f-26a6-4255-9b34-89a8c95b5617",
   "metadata": {},
   "source": [
    "5. Qual o total de tipos de culinária registrados?"
   ]
  },
  {
   "cell_type": "code",
   "execution_count": 31,
   "id": "2e12037e-8e9b-4997-b1d2-3e52579a53fc",
   "metadata": {},
   "outputs": [
    {
     "data": {
      "text/plain": [
       "165"
      ]
     },
     "execution_count": 31,
     "metadata": {},
     "output_type": "execute_result"
    }
   ],
   "source": [
    "df2['cuisines'].nunique()"
   ]
  },
  {
   "cell_type": "markdown",
   "id": "a4335b9b-2fd7-480f-a636-89eeb63c9d03",
   "metadata": {
    "jp-MarkdownHeadingCollapsed": true
   },
   "source": [
    "# País"
   ]
  },
  {
   "cell_type": "markdown",
   "id": "e1368264-f576-49c7-aee7-1ad2fb54b800",
   "metadata": {},
   "source": [
    "1. Qual o nome do país que possui mais cidades registradas?"
   ]
  },
  {
   "cell_type": "code",
   "execution_count": 36,
   "id": "d4e31762-9611-4dc3-9554-14811df5234a",
   "metadata": {},
   "outputs": [
    {
     "data": {
      "text/plain": [
       "'India'"
      ]
     },
     "execution_count": 36,
     "metadata": {},
     "output_type": "execute_result"
    }
   ],
   "source": [
    "(df2.loc[:, ['country','city']].groupby('country')\n",
    " .nunique()\n",
    " .sort_values('city', ascending=False)\n",
    " .reset_index()).iloc[0, 0]"
   ]
  },
  {
   "cell_type": "markdown",
   "id": "146b0c69-f913-4109-9d19-dbda83625b15",
   "metadata": {},
   "source": [
    "2. Qual o nome do país que possui mais restaurantes registrados?"
   ]
  },
  {
   "cell_type": "code",
   "execution_count": 9,
   "id": "d29dc03f-48c3-4336-9207-7b22016b6fe5",
   "metadata": {},
   "outputs": [
    {
     "data": {
      "text/plain": [
       "'India'"
      ]
     },
     "execution_count": 9,
     "metadata": {},
     "output_type": "execute_result"
    }
   ],
   "source": [
    "(df2.loc[:, ['restaurant_id','country']].groupby('country')\n",
    " .count()\n",
    " .sort_values('restaurant_id', ascending=False)\n",
    " .reset_index()).iloc[0, 0]"
   ]
  },
  {
   "cell_type": "markdown",
   "id": "8ea3c448-5656-43d1-9aa4-d93547039886",
   "metadata": {},
   "source": [
    "3. Qual o nome do país que possui mais restaurantes com o nível de preço igual a 4 \n",
    "registrados?\n"
   ]
  },
  {
   "cell_type": "code",
   "execution_count": 13,
   "id": "8a26e358-c832-4fa3-acc6-f68c8488a72b",
   "metadata": {},
   "outputs": [
    {
     "data": {
      "text/plain": [
       "'United States of America'"
      ]
     },
     "execution_count": 13,
     "metadata": {},
     "output_type": "execute_result"
    }
   ],
   "source": [
    "restaurantes_nota_4 = df2['price_type'] == 'gourmet'\n",
    "df_auxp03 = df2.loc[restaurantes_nota_4, ['restaurant_id', 'country']].groupby('country').count().sort_values('restaurant_id', ascending=False).reset_index()\n",
    "df_auxp03.iloc[0, 0]"
   ]
  },
  {
   "cell_type": "markdown",
   "id": "6cd163aa-b2bf-49b7-ad32-e67d772e33b0",
   "metadata": {},
   "source": [
    "4. Qual o nome do país que possui a maior quantidade de tipos de culinária \n",
    "distintos?"
   ]
  },
  {
   "cell_type": "code",
   "execution_count": 14,
   "id": "e10e889d-12b1-46dc-9ff9-9a235f89e9b5",
   "metadata": {},
   "outputs": [
    {
     "data": {
      "text/plain": [
       "'India'"
      ]
     },
     "execution_count": 14,
     "metadata": {},
     "output_type": "execute_result"
    }
   ],
   "source": [
    "df_auxp04 = df2.loc[:, ['country','cuisines']].groupby('country').nunique().sort_values('cuisines', ascending=False).reset_index()\n",
    "df_auxp04.iloc[0, 0]"
   ]
  },
  {
   "cell_type": "markdown",
   "id": "a0a1dacf-6597-4834-a20e-9e84ac1d1df5",
   "metadata": {},
   "source": [
    "5. Qual o nome do país que possui a maior quantidade de avaliações feitas?"
   ]
  },
  {
   "cell_type": "code",
   "execution_count": 15,
   "id": "a0a62ac6-efa6-462a-aa8d-56c7fabac5c8",
   "metadata": {},
   "outputs": [
    {
     "data": {
      "text/plain": [
       "'India'"
      ]
     },
     "execution_count": 15,
     "metadata": {},
     "output_type": "execute_result"
    }
   ],
   "source": [
    "df_auxp05 = df2.loc[:, ['country','votes']].groupby('country').sum().sort_values('votes', ascending=False).reset_index()\n",
    "df_auxp05.iloc[0, 0]"
   ]
  },
  {
   "cell_type": "markdown",
   "id": "19808855-477f-49a8-8f22-57faf31420c6",
   "metadata": {},
   "source": [
    "6. Qual o nome do país que possui a maior quantidade de restaurantes que fazem \n",
    "entrega?"
   ]
  },
  {
   "cell_type": "code",
   "execution_count": 18,
   "id": "51e092ca-504e-4921-a7ee-fb8d00fd54d6",
   "metadata": {},
   "outputs": [
    {
     "data": {
      "text/plain": [
       "'India'"
      ]
     },
     "execution_count": 18,
     "metadata": {},
     "output_type": "execute_result"
    }
   ],
   "source": [
    "restaurantes_entregando = df2['is_delivering_now'] == 1\n",
    "df_auxp06 = df2.loc[restaurantes_entregando, ['restaurant_id', 'country']].groupby('country').count().sort_values('restaurant_id', ascending=False).reset_index()\n",
    "df_auxp06.iloc[0, 0]"
   ]
  },
  {
   "cell_type": "markdown",
   "id": "648f318b-75a6-49f5-a823-6250adcc3591",
   "metadata": {},
   "source": [
    "7. Qual o nome do país que possui a maior quantidade de restaurantes que aceitam \n",
    "reservas?"
   ]
  },
  {
   "cell_type": "code",
   "execution_count": 12,
   "id": "11108024-f95b-46dc-988a-ca40b34c5803",
   "metadata": {},
   "outputs": [
    {
     "data": {
      "text/plain": [
       "'India'"
      ]
     },
     "execution_count": 12,
     "metadata": {},
     "output_type": "execute_result"
    }
   ],
   "source": [
    "restaurantes_reservas = df2['has_table_booking'] == 1\n",
    "df_auxp07 = df2.loc[restaurantes_reservas, ['restaurant_id', 'country']].groupby('country').count().sort_values('restaurant_id', ascending=False).reset_index()\n",
    "df_auxp07.iloc[0, 0]"
   ]
  },
  {
   "cell_type": "markdown",
   "id": "fca28458-071b-41ae-8319-c78f89141526",
   "metadata": {},
   "source": [
    "8. Qual o nome do país que possui, na média, a maior quantidade de avaliações \n",
    "registrada?"
   ]
  },
  {
   "cell_type": "code",
   "execution_count": 20,
   "id": "aa54cc7f-b813-41b5-8320-a7cdbdd1e2f5",
   "metadata": {},
   "outputs": [
    {
     "data": {
      "text/plain": [
       "'Indonesia'"
      ]
     },
     "execution_count": 20,
     "metadata": {},
     "output_type": "execute_result"
    }
   ],
   "source": [
    "df_auxp08 = df2.loc[:, ['votes', 'country']].groupby('country').mean().sort_values('votes', ascending=False).reset_index()\n",
    "df_auxp08.iloc[0, 0]"
   ]
  },
  {
   "cell_type": "markdown",
   "id": "a52b1ec6-e6ef-45f5-8898-6abc7d26b419",
   "metadata": {},
   "source": [
    "9. Qual o nome do país que possui, na média, a maior nota média registrada?"
   ]
  },
  {
   "cell_type": "code",
   "execution_count": 22,
   "id": "677f1dd5-bc7d-4055-86cd-9b2502b77102",
   "metadata": {},
   "outputs": [
    {
     "data": {
      "text/plain": [
       "'Indonesia'"
      ]
     },
     "execution_count": 22,
     "metadata": {},
     "output_type": "execute_result"
    }
   ],
   "source": [
    "df_auxp09 = df2.loc[:, ['aggregate_rating', 'country']].groupby('country').mean().sort_values('aggregate_rating', ascending=False).reset_index()\n",
    "df_auxp09.iloc[0, 0]"
   ]
  },
  {
   "cell_type": "markdown",
   "id": "6346228b-4c29-4542-b123-296d3c556490",
   "metadata": {},
   "source": [
    "10. Qual o nome do país que possui, na média, a menor nota média registrada?"
   ]
  },
  {
   "cell_type": "code",
   "execution_count": 23,
   "id": "7cf39bfb-3fae-40eb-a429-f3e0da10a249",
   "metadata": {},
   "outputs": [
    {
     "data": {
      "text/plain": [
       "'Brazil'"
      ]
     },
     "execution_count": 23,
     "metadata": {},
     "output_type": "execute_result"
    }
   ],
   "source": [
    "df_auxp10 = df2.loc[:, ['aggregate_rating', 'country']].groupby('country').mean().sort_values('aggregate_rating', ascending=True).reset_index()\n",
    "df_auxp10.iloc[0, 0]"
   ]
  },
  {
   "cell_type": "markdown",
   "id": "a32e0b9a-6cf4-4263-901c-9ffbb92f0771",
   "metadata": {},
   "source": [
    "11. Qual a média de preço de um prato para dois por país?"
   ]
  },
  {
   "cell_type": "code",
   "execution_count": 24,
   "id": "7826a9c1-4816-4cfa-a310-6d123a8f4a6f",
   "metadata": {},
   "outputs": [
    {
     "data": {
      "text/html": [
       "<div>\n",
       "<style scoped>\n",
       "    .dataframe tbody tr th:only-of-type {\n",
       "        vertical-align: middle;\n",
       "    }\n",
       "\n",
       "    .dataframe tbody tr th {\n",
       "        vertical-align: top;\n",
       "    }\n",
       "\n",
       "    .dataframe thead th {\n",
       "        text-align: right;\n",
       "    }\n",
       "</style>\n",
       "<table border=\"1\" class=\"dataframe\">\n",
       "  <thead>\n",
       "    <tr style=\"text-align: right;\">\n",
       "      <th></th>\n",
       "      <th>country</th>\n",
       "      <th>average_cost_for_two</th>\n",
       "    </tr>\n",
       "  </thead>\n",
       "  <tbody>\n",
       "    <tr>\n",
       "      <th>0</th>\n",
       "      <td>Indonesia</td>\n",
       "      <td>303000.000000</td>\n",
       "    </tr>\n",
       "    <tr>\n",
       "      <th>1</th>\n",
       "      <td>Australia</td>\n",
       "      <td>138959.783333</td>\n",
       "    </tr>\n",
       "    <tr>\n",
       "      <th>2</th>\n",
       "      <td>Sri Lanka</td>\n",
       "      <td>2579.375000</td>\n",
       "    </tr>\n",
       "    <tr>\n",
       "      <th>3</th>\n",
       "      <td>Philippines</td>\n",
       "      <td>1227.825000</td>\n",
       "    </tr>\n",
       "    <tr>\n",
       "      <th>4</th>\n",
       "      <td>India</td>\n",
       "      <td>704.400514</td>\n",
       "    </tr>\n",
       "    <tr>\n",
       "      <th>5</th>\n",
       "      <td>South Africa</td>\n",
       "      <td>339.228324</td>\n",
       "    </tr>\n",
       "    <tr>\n",
       "      <th>6</th>\n",
       "      <td>Qatar</td>\n",
       "      <td>174.000000</td>\n",
       "    </tr>\n",
       "    <tr>\n",
       "      <th>7</th>\n",
       "      <td>United Arab Emirates</td>\n",
       "      <td>153.716667</td>\n",
       "    </tr>\n",
       "    <tr>\n",
       "      <th>8</th>\n",
       "      <td>Singapore</td>\n",
       "      <td>141.437500</td>\n",
       "    </tr>\n",
       "    <tr>\n",
       "      <th>9</th>\n",
       "      <td>Brazil</td>\n",
       "      <td>138.812500</td>\n",
       "    </tr>\n",
       "    <tr>\n",
       "      <th>10</th>\n",
       "      <td>Turkey</td>\n",
       "      <td>128.584906</td>\n",
       "    </tr>\n",
       "    <tr>\n",
       "      <th>11</th>\n",
       "      <td>New Zealand</td>\n",
       "      <td>62.154812</td>\n",
       "    </tr>\n",
       "    <tr>\n",
       "      <th>12</th>\n",
       "      <td>United States of America</td>\n",
       "      <td>55.029840</td>\n",
       "    </tr>\n",
       "    <tr>\n",
       "      <th>13</th>\n",
       "      <td>England</td>\n",
       "      <td>43.510000</td>\n",
       "    </tr>\n",
       "    <tr>\n",
       "      <th>14</th>\n",
       "      <td>Canada</td>\n",
       "      <td>41.861111</td>\n",
       "    </tr>\n",
       "  </tbody>\n",
       "</table>\n",
       "</div>"
      ],
      "text/plain": [
       "                     country  average_cost_for_two\n",
       "0                  Indonesia         303000.000000\n",
       "1                  Australia         138959.783333\n",
       "2                  Sri Lanka           2579.375000\n",
       "3                Philippines           1227.825000\n",
       "4                      India            704.400514\n",
       "5               South Africa            339.228324\n",
       "6                      Qatar            174.000000\n",
       "7       United Arab Emirates            153.716667\n",
       "8                  Singapore            141.437500\n",
       "9                     Brazil            138.812500\n",
       "10                    Turkey            128.584906\n",
       "11               New Zealand             62.154812\n",
       "12  United States of America             55.029840\n",
       "13                   England             43.510000\n",
       "14                    Canada             41.861111"
      ]
     },
     "execution_count": 24,
     "metadata": {},
     "output_type": "execute_result"
    }
   ],
   "source": [
    "df_auxp11 = df2.loc[:, ['average_cost_for_two', 'country']].groupby('country').mean().sort_values('average_cost_for_two', ascending=False).reset_index()\n",
    "df_auxp11"
   ]
  },
  {
   "cell_type": "markdown",
   "id": "a7a4081a-381e-4b88-9732-45aaae91739a",
   "metadata": {
    "jp-MarkdownHeadingCollapsed": true
   },
   "source": [
    "# Cidade"
   ]
  },
  {
   "cell_type": "markdown",
   "id": "926c55d6-c0c3-4fe8-8387-7b4b0b7c73a7",
   "metadata": {},
   "source": [
    "1. Qual o nome da cidade que possui mais restaurantes registrados?"
   ]
  },
  {
   "cell_type": "code",
   "execution_count": 26,
   "id": "f93c4280-3a4b-4047-9e23-9d3a8c0f1e0c",
   "metadata": {},
   "outputs": [
    {
     "data": {
      "text/plain": [
       "'Abu Dhabi'"
      ]
     },
     "execution_count": 26,
     "metadata": {},
     "output_type": "execute_result"
    }
   ],
   "source": [
    "df_auxc01 = df2.loc[:, ['restaurant_id', 'city']].groupby('city').count().sort_values('restaurant_id', ascending=False).reset_index()\n",
    "df_auxc01.iloc[0, 0]"
   ]
  },
  {
   "cell_type": "markdown",
   "id": "8e62dd01-a26c-4736-9975-4e27e6845597",
   "metadata": {},
   "source": [
    "2. Qual o nome da cidade que possui mais restaurantes com nota média acima de 4?"
   ]
  },
  {
   "cell_type": "code",
   "execution_count": 28,
   "id": "b2c780b5-b05f-4508-8cef-2ac41f06b41a",
   "metadata": {},
   "outputs": [
    {
     "data": {
      "text/plain": [
       "'Bangalore'"
      ]
     },
     "execution_count": 28,
     "metadata": {},
     "output_type": "execute_result"
    }
   ],
   "source": [
    "restaurantes_acima_de_4 = df2['aggregate_rating'] > 4\n",
    "df_auxc02 = df2.loc[restaurantes_acima_de_4, ['restaurant_id', 'city']].groupby('city').count().sort_values('restaurant_id', ascending=False).reset_index()\n",
    "df_auxc02.iloc[0, 0]"
   ]
  },
  {
   "cell_type": "markdown",
   "id": "5380d075-1912-40b7-8039-6d88348f5db8",
   "metadata": {},
   "source": [
    "3. Qual o nome da cidade que possui mais restaurantes com nota média abaixo de 2.5?"
   ]
  },
  {
   "cell_type": "code",
   "execution_count": 29,
   "id": "f4ab45c8-e684-411e-9d83-88a73284033f",
   "metadata": {},
   "outputs": [
    {
     "data": {
      "text/plain": [
       "'Gangtok'"
      ]
     },
     "execution_count": 29,
     "metadata": {},
     "output_type": "execute_result"
    }
   ],
   "source": [
    "restaurantes_abaixo_250 = df2['aggregate_rating'] < 2.5\n",
    "df_auxc03 = df2.loc[restaurantes_abaixo_250, ['restaurant_id', 'city']].groupby('city').count().sort_values('restaurant_id', ascending=False).reset_index()\n",
    "df_auxc03.iloc[0, 0]"
   ]
  },
  {
   "cell_type": "markdown",
   "id": "b0923c30-66b6-4915-baba-d808f52810af",
   "metadata": {},
   "source": [
    "4. Qual o nome da cidade que possui o maior valor médio de um prato para dois?"
   ]
  },
  {
   "cell_type": "code",
   "execution_count": 30,
   "id": "ab902a1a-72a2-42c1-aeb2-9f64497e6284",
   "metadata": {},
   "outputs": [
    {
     "data": {
      "text/plain": [
       "'Adelaide'"
      ]
     },
     "execution_count": 30,
     "metadata": {},
     "output_type": "execute_result"
    }
   ],
   "source": [
    "df_auxc04 = df2.loc[:, ['average_cost_for_two', 'city']].groupby('city').mean().sort_values('average_cost_for_two', ascending=False).reset_index()\n",
    "df_auxc04.iloc[0, 0]"
   ]
  },
  {
   "cell_type": "markdown",
   "id": "457fbfab-9cff-430f-878a-deeed51a0eeb",
   "metadata": {},
   "source": [
    "5. Qual o nome da cidade que possui a maior quantidade de tipos de culinária distintas?"
   ]
  },
  {
   "cell_type": "code",
   "execution_count": 31,
   "id": "85e5d823-8bd8-4937-9854-2571a0ebab81",
   "metadata": {},
   "outputs": [
    {
     "data": {
      "text/plain": [
       "'Birmingham'"
      ]
     },
     "execution_count": 31,
     "metadata": {},
     "output_type": "execute_result"
    }
   ],
   "source": [
    "df_auxc05 = df2.loc[:, ['cuisines', 'city']].groupby('city').nunique().sort_values('cuisines', ascending=False).reset_index()\n",
    "df_auxc05.iloc[0, 0]"
   ]
  },
  {
   "cell_type": "markdown",
   "id": "5c930344-c1cc-4206-91d5-2a720900951c",
   "metadata": {},
   "source": [
    "6. Qual o nome da cidade que possui a maior quantidade de restaurantes que fazem reservas?"
   ]
  },
  {
   "cell_type": "code",
   "execution_count": 33,
   "id": "b3448780-7950-4d13-a9ed-288168678bcb",
   "metadata": {},
   "outputs": [
    {
     "data": {
      "text/plain": [
       "'Bangalore'"
      ]
     },
     "execution_count": 33,
     "metadata": {},
     "output_type": "execute_result"
    }
   ],
   "source": [
    "restaurantes_reservas = df2['has_table_booking'] == 1\n",
    "df_auxc06 = df2.loc[restaurantes_reservas, ['restaurant_id', 'city']].groupby('city').count().sort_values('restaurant_id', ascending=False).reset_index()\n",
    "df_auxc06.iloc[0, 0]"
   ]
  },
  {
   "cell_type": "markdown",
   "id": "3c756b95-219e-4f8e-ad22-a4e0fdad065c",
   "metadata": {},
   "source": [
    "7. Qual o nome da cidade que possui a maior quantidade de restaurantes que fazem entregas?"
   ]
  },
  {
   "cell_type": "code",
   "execution_count": 35,
   "id": "59259731-3116-462d-9f1c-08266e852b2a",
   "metadata": {},
   "outputs": [
    {
     "data": {
      "text/plain": [
       "'Vadodara'"
      ]
     },
     "execution_count": 35,
     "metadata": {},
     "output_type": "execute_result"
    }
   ],
   "source": [
    "restaurantes_entregando = df2['is_delivering_now'] == 1\n",
    "df_auxc07 = df2.loc[restaurantes_entregando, ['restaurant_id', 'city']].groupby('city').count().sort_values('restaurant_id', ascending=False).reset_index()\n",
    "df_auxc07.iloc[0, 0]"
   ]
  },
  {
   "cell_type": "markdown",
   "id": "262c4258-8f9b-4416-822a-b09ca81e3b5a",
   "metadata": {},
   "source": [
    "8. Qual o nome da cidade que possui a maior quantidade de restaurantes que aceitam pedidos online?"
   ]
  },
  {
   "cell_type": "code",
   "execution_count": 37,
   "id": "bfe98592-19d8-4d98-afec-5bdebf4c8f8b",
   "metadata": {},
   "outputs": [
    {
     "data": {
      "text/plain": [
       "'Bhopal'"
      ]
     },
     "execution_count": 37,
     "metadata": {},
     "output_type": "execute_result"
    }
   ],
   "source": [
    "restaurantes_online = df2['has_online_delivery'] == 1\n",
    "df_auxc08 = df2.loc[restaurantes_online, ['restaurant_id', 'city']].groupby('city').count().sort_values('restaurant_id', ascending=False).reset_index()\n",
    "df_auxc08.iloc[0, 0]"
   ]
  },
  {
   "cell_type": "markdown",
   "id": "504f9efb-f2a1-41bd-baee-ab47bd6fd502",
   "metadata": {
    "jp-MarkdownHeadingCollapsed": true
   },
   "source": [
    "# Restaurantes"
   ]
  },
  {
   "cell_type": "markdown",
   "id": "7f972d42-0f19-48d1-b133-21443bb9514a",
   "metadata": {},
   "source": [
    "1. Qual o nome do restaurante que possui a maior quantidade de avaliações?"
   ]
  },
  {
   "cell_type": "code",
   "execution_count": 26,
   "id": "13682371-817d-4224-80f0-046f7b9a761a",
   "metadata": {},
   "outputs": [
    {
     "data": {
      "text/plain": [
       "'Bawarchi'"
      ]
     },
     "execution_count": 26,
     "metadata": {},
     "output_type": "execute_result"
    }
   ],
   "source": [
    "df_auxr01 = df2.loc[:, ['restaurant_name', 'votes']].groupby('restaurant_name').max().sort_values('votes', ascending=False).reset_index()\n",
    "df_auxr01.iloc[0, 0]"
   ]
  },
  {
   "cell_type": "markdown",
   "id": "976fdfd8-6737-4baf-a51b-ed60036538ea",
   "metadata": {},
   "source": [
    "2. Qual o nome do restaurante com a maior nota média?"
   ]
  },
  {
   "cell_type": "code",
   "execution_count": 14,
   "id": "4c844288-3bd1-4fc3-ae79-4a40e7663f75",
   "metadata": {},
   "outputs": [
    {
     "data": {
      "text/plain": [
       "'Indian Grill Room'"
      ]
     },
     "execution_count": 14,
     "metadata": {},
     "output_type": "execute_result"
    }
   ],
   "source": [
    "maior_nota = df2['aggregate_rating'] == df2['aggregate_rating'].max()\n",
    "df_auxr02 = df2.loc[maior_nota, ['restaurant_name', 'restaurant_id', 'aggregate_rating']].sort_values(by='restaurant_id')\n",
    "df_auxr02.iloc[0,0]\n"
   ]
  },
  {
   "cell_type": "markdown",
   "id": "16a208ec-91b9-44d1-a8e7-07c2f33bfdbd",
   "metadata": {},
   "source": [
    "3. Qual o nome do restaurante que possui o maior valor de uma prato para duas pessoas?"
   ]
  },
  {
   "cell_type": "code",
   "execution_count": 41,
   "id": "3ba8fd51-7cff-4bb2-9b65-320db8c326cd",
   "metadata": {},
   "outputs": [
    {
     "data": {
      "text/plain": [
       "\"d'Arry's Verandah Restaurant\""
      ]
     },
     "execution_count": 41,
     "metadata": {},
     "output_type": "execute_result"
    }
   ],
   "source": [
    "maior_valor = df2['average_cost_for_two'] == df2['average_cost_for_two'].max()\n",
    "df_auxr03 = df2.loc[maior_valor, ['restaurant_name', 'restaurant_id', 'average_cost_for_two']].sort_values(by='restaurant_id')\n",
    "df_auxr03.iloc[0,0]"
   ]
  },
  {
   "cell_type": "markdown",
   "id": "df2aaba7-6bb7-4c23-b4af-3ba901729617",
   "metadata": {},
   "source": [
    "4. Qual o nome do restaurante de tipo de culinária brasileira que possui a menor média de avaliação?"
   ]
  },
  {
   "cell_type": "code",
   "execution_count": 44,
   "id": "8de5db57-fabc-4c58-b647-52f4d1a1eca2",
   "metadata": {},
   "outputs": [
    {
     "data": {
      "text/plain": [
       "'Loca Como tu Madre'"
      ]
     },
     "execution_count": 44,
     "metadata": {},
     "output_type": "execute_result"
    }
   ],
   "source": [
    "menor_avaliacao = (df2['cuisines'] == 'Brazilian') & (df2['aggregate_rating'] == df2['aggregate_rating'].min())\n",
    "df_auxr04 = df2.loc[menor_avaliacao, ['restaurant_name', 'restaurant_id', 'aggregate_rating']].sort_values(by='restaurant_id')\n",
    "df_auxr04.iloc[0, 0]\n"
   ]
  },
  {
   "cell_type": "markdown",
   "id": "3204682b-c37c-4ed5-a661-cedf2e6ea58d",
   "metadata": {},
   "source": [
    "5. Qual o nome do restaurante de tipo de culinária brasileira, e que é do Brasil, que possui a maior média de avaliação?"
   ]
  },
  {
   "cell_type": "code",
   "execution_count": 10,
   "id": "f538bb20-a3ff-4ca6-a79b-cad4a60cdba6",
   "metadata": {},
   "outputs": [
    {
     "data": {
      "text/plain": [
       "'Braseiro da Gávea'"
      ]
     },
     "execution_count": 10,
     "metadata": {},
     "output_type": "execute_result"
    }
   ],
   "source": [
    "restaurantes_selecionados = (df2['cuisines'] == 'Brazilian') & (df2['country'] == 'Brazil') & (df2['aggregate_rating'] == df2['aggregate_rating'].max())\n",
    "df_auxr05 = df2.loc[restaurantes_selecionados, ['restaurant_name', 'aggregate_rating', 'restaurant_id']].sort_values(by='restaurant_id')\n",
    "df_auxr05.iloc[0, 0]"
   ]
  },
  {
   "cell_type": "markdown",
   "id": "975884d2-4552-4801-8f40-50cd3faece63",
   "metadata": {},
   "source": [
    "6. Os restaurantes que aceitam pedido online são também, na média, os restaurantes que mais possuem avaliações registradas?"
   ]
  },
  {
   "cell_type": "code",
   "execution_count": 11,
   "id": "4567b7b1-920c-4a90-acab-882adf026a13",
   "metadata": {},
   "outputs": [
    {
     "data": {
      "text/html": [
       "<div>\n",
       "<style scoped>\n",
       "    .dataframe tbody tr th:only-of-type {\n",
       "        vertical-align: middle;\n",
       "    }\n",
       "\n",
       "    .dataframe tbody tr th {\n",
       "        vertical-align: top;\n",
       "    }\n",
       "\n",
       "    .dataframe thead th {\n",
       "        text-align: right;\n",
       "    }\n",
       "</style>\n",
       "<table border=\"1\" class=\"dataframe\">\n",
       "  <thead>\n",
       "    <tr style=\"text-align: right;\">\n",
       "      <th></th>\n",
       "      <th>has_online_delivery</th>\n",
       "      <th>votes</th>\n",
       "    </tr>\n",
       "  </thead>\n",
       "  <tbody>\n",
       "    <tr>\n",
       "      <th>0</th>\n",
       "      <td>1</td>\n",
       "      <td>838.821664</td>\n",
       "    </tr>\n",
       "    <tr>\n",
       "      <th>1</th>\n",
       "      <td>0</td>\n",
       "      <td>479.421018</td>\n",
       "    </tr>\n",
       "  </tbody>\n",
       "</table>\n",
       "</div>"
      ],
      "text/plain": [
       "   has_online_delivery       votes\n",
       "0                    1  838.821664\n",
       "1                    0  479.421018"
      ]
     },
     "execution_count": 11,
     "metadata": {},
     "output_type": "execute_result"
    }
   ],
   "source": [
    "df2.loc[:, ['has_online_delivery', 'votes']].groupby('has_online_delivery').mean().sort_values('votes', ascending=False).reset_index()"
   ]
  },
  {
   "cell_type": "markdown",
   "id": "1e0982a5-2a23-44c8-8aa0-0e1a6986ebaf",
   "metadata": {},
   "source": [
    "7. Os restaurantes que fazem reservas são também, na média, os restaurantes que possuem o maior valor médio de um prato para duas pessoas?"
   ]
  },
  {
   "cell_type": "code",
   "execution_count": 12,
   "id": "21ad4d0b-2013-47c2-9d6e-bcac087fc97e",
   "metadata": {},
   "outputs": [
    {
     "data": {
      "text/html": [
       "<div>\n",
       "<style scoped>\n",
       "    .dataframe tbody tr th:only-of-type {\n",
       "        vertical-align: middle;\n",
       "    }\n",
       "\n",
       "    .dataframe tbody tr th {\n",
       "        vertical-align: top;\n",
       "    }\n",
       "\n",
       "    .dataframe thead th {\n",
       "        text-align: right;\n",
       "    }\n",
       "</style>\n",
       "<table border=\"1\" class=\"dataframe\">\n",
       "  <thead>\n",
       "    <tr style=\"text-align: right;\">\n",
       "      <th></th>\n",
       "      <th>has_table_booking</th>\n",
       "      <th>average_cost_for_two</th>\n",
       "    </tr>\n",
       "  </thead>\n",
       "  <tbody>\n",
       "    <tr>\n",
       "      <th>0</th>\n",
       "      <td>1</td>\n",
       "      <td>69998.423810</td>\n",
       "    </tr>\n",
       "    <tr>\n",
       "      <th>1</th>\n",
       "      <td>0</td>\n",
       "      <td>3488.596866</td>\n",
       "    </tr>\n",
       "  </tbody>\n",
       "</table>\n",
       "</div>"
      ],
      "text/plain": [
       "   has_table_booking  average_cost_for_two\n",
       "0                  1          69998.423810\n",
       "1                  0           3488.596866"
      ]
     },
     "execution_count": 12,
     "metadata": {},
     "output_type": "execute_result"
    }
   ],
   "source": [
    "df2.loc[:, ['has_table_booking', 'average_cost_for_two']].groupby('has_table_booking').mean().sort_values('average_cost_for_two', ascending=False).reset_index()"
   ]
  },
  {
   "cell_type": "markdown",
   "id": "28f1c2b3-3c5a-44e8-bc98-c5cc748e795a",
   "metadata": {},
   "source": [
    "8. Os restaurantes do tipo de culinária japonesa dos Estados Unidos da América possuem um valor médio de prato para duas pessoas maior que as \n",
    "churrascarias americanas (BBQ)?"
   ]
  },
  {
   "cell_type": "code",
   "execution_count": 16,
   "id": "51ef0e96-5a59-460e-a701-16cf8fc85db8",
   "metadata": {},
   "outputs": [
    {
     "data": {
      "text/html": [
       "<div>\n",
       "<style scoped>\n",
       "    .dataframe tbody tr th:only-of-type {\n",
       "        vertical-align: middle;\n",
       "    }\n",
       "\n",
       "    .dataframe tbody tr th {\n",
       "        vertical-align: top;\n",
       "    }\n",
       "\n",
       "    .dataframe thead th {\n",
       "        text-align: right;\n",
       "    }\n",
       "</style>\n",
       "<table border=\"1\" class=\"dataframe\">\n",
       "  <thead>\n",
       "    <tr style=\"text-align: right;\">\n",
       "      <th></th>\n",
       "      <th>cuisines</th>\n",
       "      <th>average_cost_for_two</th>\n",
       "    </tr>\n",
       "  </thead>\n",
       "  <tbody>\n",
       "    <tr>\n",
       "      <th>0</th>\n",
       "      <td>Japanese</td>\n",
       "      <td>56.406250</td>\n",
       "    </tr>\n",
       "    <tr>\n",
       "      <th>1</th>\n",
       "      <td>BBQ</td>\n",
       "      <td>39.642857</td>\n",
       "    </tr>\n",
       "  </tbody>\n",
       "</table>\n",
       "</div>"
      ],
      "text/plain": [
       "   cuisines  average_cost_for_two\n",
       "0  Japanese             56.406250\n",
       "1       BBQ             39.642857"
      ]
     },
     "execution_count": 16,
     "metadata": {},
     "output_type": "execute_result"
    }
   ],
   "source": [
    "lines = (df2['country'] == 'United States of America') & ((df2['cuisines'] == 'Japanese') | (df2['cuisines'] == 'BBQ'))\n",
    "# Condição ou: se os restaurantes de cozinha japonesa e BBQ forem dos EUA, eles precisam estar entre parênteses para obedecer à condição OU.\n",
    "\n",
    "df2.loc[lines, ['cuisines', 'average_cost_for_two']].groupby('cuisines').mean().sort_values('average_cost_for_two', ascending=False).reset_index()"
   ]
  },
  {
   "cell_type": "markdown",
   "id": "6d9737f9-e763-4fd8-8261-4b8cce6a5f9d",
   "metadata": {
    "jp-MarkdownHeadingCollapsed": true
   },
   "source": [
    "# Tipos de Culinária"
   ]
  },
  {
   "cell_type": "markdown",
   "id": "bf94a39e-ce0d-4b9e-9566-f57729edd30c",
   "metadata": {},
   "source": [
    "1. Dos restaurantes que possuem o tipo de culinária italiana, qual o nome do restaurante com a maior média de avaliação?"
   ]
  },
  {
   "cell_type": "code",
   "execution_count": 17,
   "id": "3d294ba2-b22a-491a-b00a-478583d257ff",
   "metadata": {},
   "outputs": [
    {
     "data": {
      "text/plain": [
       "'Darshan'"
      ]
     },
     "execution_count": 17,
     "metadata": {},
     "output_type": "execute_result"
    }
   ],
   "source": [
    "maior_avaliacao = (df2['cuisines'] == 'Italian') & (df2['aggregate_rating'] == df2['aggregate_rating'].max())\n",
    "df_auxn01 = df2.loc[maior_avaliacao, ['restaurant_name', 'restaurant_id', 'aggregate_rating']].sort_values(by='restaurant_id')\n",
    "df_auxn01.iloc[0, 0]"
   ]
  },
  {
   "cell_type": "markdown",
   "id": "193ee214-abf9-4100-92d1-669554f13191",
   "metadata": {},
   "source": [
    "2. Dos restaurantes que possuem o tipo de culinária italiana, qual o nome do restaurante com a menor média de avaliação?"
   ]
  },
  {
   "cell_type": "code",
   "execution_count": 18,
   "id": "b5b89266-7d35-4aa8-9476-bc792417d3f3",
   "metadata": {},
   "outputs": [
    {
     "data": {
      "text/plain": [
       "'Avenida Paulista'"
      ]
     },
     "execution_count": 18,
     "metadata": {},
     "output_type": "execute_result"
    }
   ],
   "source": [
    "menor_avaliacao = (df2['cuisines'] == 'Italian') & (df2['aggregate_rating'] == df2['aggregate_rating'].min())\n",
    "df_auxn02 = df2.loc[menor_avaliacao, ['restaurant_name', 'restaurant_id', 'aggregate_rating']].sort_values(by='restaurant_id')\n",
    "df_auxn02.iloc[0, 0]\n",
    "\n"
   ]
  },
  {
   "cell_type": "markdown",
   "id": "693d33d2-778e-407c-8865-2c81213f9801",
   "metadata": {},
   "source": [
    "3. Dos restaurantes que possuem o tipo de culinária americana, qual o nome do restaurante com a maior média de avaliação?"
   ]
  },
  {
   "cell_type": "code",
   "execution_count": 19,
   "id": "26be5a3e-f5df-4c13-aa70-0ce62426c8dd",
   "metadata": {},
   "outputs": [
    {
     "data": {
      "text/plain": [
       "'Burger & Lobster'"
      ]
     },
     "execution_count": 19,
     "metadata": {},
     "output_type": "execute_result"
    }
   ],
   "source": [
    "maior_avaliacao = (df2['cuisines'] == 'American') & (df2['aggregate_rating'] == df2['aggregate_rating'].max())\n",
    "df_auxn03 = df2.loc[maior_avaliacao, ['restaurant_name', 'restaurant_id', 'aggregate_rating']].sort_values(by='restaurant_id')\n",
    "df_auxn03.iloc[0, 0]"
   ]
  },
  {
   "cell_type": "markdown",
   "id": "8efbfbc5-03fe-4cab-9a54-38224a05fc70",
   "metadata": {},
   "source": [
    "4. Dos restaurantes que possuem o tipo de culinária americana, qual o nome do restaurante com a menor média de avaliação?"
   ]
  },
  {
   "cell_type": "code",
   "execution_count": 20,
   "id": "4ee66986-d42c-474a-b152-ce4802ae1373",
   "metadata": {},
   "outputs": [
    {
     "data": {
      "text/plain": [
       "'Alston Bar & Beef'"
      ]
     },
     "execution_count": 20,
     "metadata": {},
     "output_type": "execute_result"
    }
   ],
   "source": [
    "menor_avaliacao = (df2['cuisines'] == 'American') & (df2['aggregate_rating'] == df2['aggregate_rating'].min())\n",
    "df_auxn04 = df2.loc[menor_avaliacao, ['restaurant_name', 'restaurant_id', 'aggregate_rating']].sort_values(by='restaurant_id')\n",
    "df_auxn04.iloc[0, 0]\n"
   ]
  },
  {
   "cell_type": "markdown",
   "id": "df7a0bbf-8ab6-4770-bb68-e7628e5b8dd6",
   "metadata": {},
   "source": [
    "5. Dos restaurantes que possuem o tipo de culinária árabe, qual o nome do \n",
    "restaurante com a maior média de avaliação?? "
   ]
  },
  {
   "cell_type": "code",
   "execution_count": 10,
   "id": "a40b845b-62c4-488a-9353-29d1da503031",
   "metadata": {},
   "outputs": [
    {
     "data": {
      "text/plain": [
       "'Mandi@36'"
      ]
     },
     "execution_count": 10,
     "metadata": {},
     "output_type": "execute_result"
    }
   ],
   "source": [
    "restaurantes_arab = df2['cuisines'] == 'Arabian' \n",
    "df_auxn05 = df2.loc[restaurantes_arab, ['restaurant_name', 'aggregate_rating', 'restaurant_id']].sort_values('aggregate_rating', ascending=False).reset_index()\n",
    "df_auxn05.iloc[0, 1]"
   ]
  },
  {
   "cell_type": "markdown",
   "id": "4ec5ea21-4b8e-400d-be0e-a78b0f3de005",
   "metadata": {},
   "source": [
    "6. Dos restaurantes que possuem o tipo de culinária árabe, qual o nome do \n",
    "restaurante com a menor média de avaliação??"
   ]
  },
  {
   "cell_type": "code",
   "execution_count": 10,
   "id": "b8525783-3f3b-4969-83ea-d75209a7385c",
   "metadata": {},
   "outputs": [
    {
     "data": {
      "text/plain": [
       "'Raful'"
      ]
     },
     "execution_count": 10,
     "metadata": {},
     "output_type": "execute_result"
    }
   ],
   "source": [
    "restaurantes_arab = df2['cuisines'] == 'Arabian' \n",
    "df_auxn05 = df2.loc[restaurantes_arab, ['restaurant_name', 'aggregate_rating', 'restaurant_id']].sort_values(['aggregate_rating', 'restaurant_id'], ascending=[True, True]).reset_index()\n",
    "df_auxn05.iloc[0, 1],"
   ]
  },
  {
   "cell_type": "markdown",
   "id": "5d988a80-fffc-403f-9afb-72946ade1b0c",
   "metadata": {},
   "source": [
    "7. Dos restaurantes que possuem o tipo de culinária japonesa, qual o nome do \n",
    "restaurante com a maior média de avaliação???"
   ]
  },
  {
   "cell_type": "code",
   "execution_count": 15,
   "id": "98f3d3ec-32b1-44e2-90a6-e9f17dfe1fa7",
   "metadata": {},
   "outputs": [
    {
     "data": {
      "text/plain": [
       "'Sushi Samba'"
      ]
     },
     "execution_count": 15,
     "metadata": {},
     "output_type": "execute_result"
    }
   ],
   "source": [
    "maior_avaliacao = (df2['cuisines'] == 'Japanese') & (df2['aggregate_rating'] == df2['aggregate_rating'].max())\n",
    "df_auxn07 = df2.loc[maior_avaliacao, ['restaurant_name', 'restaurant_id', 'aggregate_rating']].sort_values(by='restaurant_id')\n",
    "df_auxn07.iloc[0, 0]"
   ]
  },
  {
   "cell_type": "markdown",
   "id": "06a519a7-f991-4ac3-8200-670f25cbc64c",
   "metadata": {},
   "source": [
    "8. Dos restaurantes que possuem o tipo de culinária japonesa, qual o nome do \n",
    "restaurante com a menor média de avaliação?)?"
   ]
  },
  {
   "cell_type": "code",
   "execution_count": 16,
   "id": "97b02975-b0ad-42b0-aa2f-694cc5c3ec2a",
   "metadata": {},
   "outputs": [
    {
     "data": {
      "text/plain": [
       "'Banzai Sushi'"
      ]
     },
     "execution_count": 16,
     "metadata": {},
     "output_type": "execute_result"
    }
   ],
   "source": [
    "menor_avaliacao = (df2['cuisines'] == 'Japanese') & (df2['aggregate_rating'] == df2['aggregate_rating'].min())\n",
    "df_auxn08 = df2.loc[menor_avaliacao, ['restaurant_name', 'restaurant_id', 'aggregate_rating']].sort_values(by='restaurant_id')\n",
    "df_auxn08.iloc[0, 0]"
   ]
  },
  {
   "cell_type": "markdown",
   "id": "6f45a976-6ada-4d3c-8621-0da1e0272294",
   "metadata": {},
   "source": [
    "9. Dos restaurantes que possuem o tipo de culinária caseira, qual o nome do \n",
    "restaurante com a maior média de avaliação?\n"
   ]
  },
  {
   "cell_type": "code",
   "execution_count": 8,
   "id": "6c0978fb-2950-452d-9553-bca9795bd293",
   "metadata": {},
   "outputs": [
    {
     "data": {
      "text/plain": [
       "'Kanaat Lokantası'"
      ]
     },
     "execution_count": 8,
     "metadata": {},
     "output_type": "execute_result"
    }
   ],
   "source": [
    "home_made = df2['cuisines'] == 'Home-made'\n",
    "df_auxn09 = df2.loc[home_made, ['restaurant_name', 'aggregate_rating', 'restaurant_id']].sort_values(['aggregate_rating', 'restaurant_id'], ascending=[False, True]).reset_index()\n",
    "df_auxn09.iloc[0, 1]\n",
    "\n"
   ]
  },
  {
   "cell_type": "markdown",
   "id": "74bcf5d7-316e-4000-9e65-47c1ab238f4f",
   "metadata": {},
   "source": [
    "10. Dos restaurantes que possuem o tipo de culinária caseira, qual o nome do \n",
    "restaurante com a menor média de avaliação?"
   ]
  },
  {
   "cell_type": "code",
   "execution_count": 9,
   "id": "1d4ba8ad-f106-4577-9494-57e531c94521",
   "metadata": {},
   "outputs": [
    {
     "data": {
      "text/plain": [
       "'GurMekan Restaurant'"
      ]
     },
     "execution_count": 9,
     "metadata": {},
     "output_type": "execute_result"
    }
   ],
   "source": [
    "home_made = df2['cuisines'] == 'Home-made'\n",
    "df_auxn10 = df2.loc[home_made, ['restaurant_name', 'aggregate_rating', 'restaurant_id']].sort_values(['aggregate_rating', 'restaurant_id'], ascending=[True, True]).reset_index()\n",
    "df_auxn10.iloc[0, 1]"
   ]
  },
  {
   "cell_type": "markdown",
   "id": "59c98308-0be7-4084-8d8c-1b3e661356ed",
   "metadata": {},
   "source": [
    "11. Qual o tipo de culinária que possui o maior valor médio de um prato para duas \n",
    "pessoas?"
   ]
  },
  {
   "cell_type": "code",
   "execution_count": 12,
   "id": "0b7ce0b2-d876-4dc7-b0ba-ce14013aabb3",
   "metadata": {},
   "outputs": [
    {
     "data": {
      "text/html": [
       "<div>\n",
       "<style scoped>\n",
       "    .dataframe tbody tr th:only-of-type {\n",
       "        vertical-align: middle;\n",
       "    }\n",
       "\n",
       "    .dataframe tbody tr th {\n",
       "        vertical-align: top;\n",
       "    }\n",
       "\n",
       "    .dataframe thead th {\n",
       "        text-align: right;\n",
       "    }\n",
       "</style>\n",
       "<table border=\"1\" class=\"dataframe\">\n",
       "  <thead>\n",
       "    <tr style=\"text-align: right;\">\n",
       "      <th></th>\n",
       "      <th>cuisines</th>\n",
       "      <th>average_cost_for_two</th>\n",
       "    </tr>\n",
       "  </thead>\n",
       "  <tbody>\n",
       "    <tr>\n",
       "      <th>0</th>\n",
       "      <td>Modern Australian</td>\n",
       "      <td>1.470693e+06</td>\n",
       "    </tr>\n",
       "  </tbody>\n",
       "</table>\n",
       "</div>"
      ],
      "text/plain": [
       "            cuisines  average_cost_for_two\n",
       "0  Modern Australian          1.470693e+06"
      ]
     },
     "execution_count": 12,
     "metadata": {},
     "output_type": "execute_result"
    }
   ],
   "source": [
    "df_auxn11 = df2.loc[:, ['cuisines', 'average_cost_for_two']].groupby('cuisines').mean().sort_values('average_cost_for_two', ascending=False).reset_index()\n",
    "df_auxn11.head(1)"
   ]
  },
  {
   "cell_type": "markdown",
   "id": "38e3f75d-fb51-49d5-8abe-f1c9937de05e",
   "metadata": {},
   "source": [
    "12. Qual o tipo de culinária que possui a maior nota média?"
   ]
  },
  {
   "cell_type": "code",
   "execution_count": 16,
   "id": "3e9f4209-48c7-4c32-934f-16f2d11d7e4d",
   "metadata": {},
   "outputs": [
    {
     "data": {
      "text/html": [
       "<div>\n",
       "<style scoped>\n",
       "    .dataframe tbody tr th:only-of-type {\n",
       "        vertical-align: middle;\n",
       "    }\n",
       "\n",
       "    .dataframe tbody tr th {\n",
       "        vertical-align: top;\n",
       "    }\n",
       "\n",
       "    .dataframe thead th {\n",
       "        text-align: right;\n",
       "    }\n",
       "</style>\n",
       "<table border=\"1\" class=\"dataframe\">\n",
       "  <thead>\n",
       "    <tr style=\"text-align: right;\">\n",
       "      <th></th>\n",
       "      <th>cuisines</th>\n",
       "      <th>aggregate_rating</th>\n",
       "    </tr>\n",
       "  </thead>\n",
       "  <tbody>\n",
       "    <tr>\n",
       "      <th>0</th>\n",
       "      <td>Others</td>\n",
       "      <td>4.9</td>\n",
       "    </tr>\n",
       "  </tbody>\n",
       "</table>\n",
       "</div>"
      ],
      "text/plain": [
       "  cuisines  aggregate_rating\n",
       "0   Others               4.9"
      ]
     },
     "execution_count": 16,
     "metadata": {},
     "output_type": "execute_result"
    }
   ],
   "source": [
    "df_auxn12 = df2.loc[:, ['cuisines', 'aggregate_rating']].groupby('cuisines').mean().sort_values('aggregate_rating', ascending=False).reset_index()\n",
    "df_auxn12.head(1)"
   ]
  },
  {
   "cell_type": "markdown",
   "id": "343fcac9-011d-4ecb-a887-8be98788d6af",
   "metadata": {},
   "source": [
    "13. Qual o tipo de culinária que possui mais restaurantes que aceitam pedidos \n",
    "online e fazem entregas?"
   ]
  },
  {
   "cell_type": "code",
   "execution_count": 18,
   "id": "45cc3ab4-64fc-4e85-8eac-1ae7acbe1d98",
   "metadata": {},
   "outputs": [
    {
     "data": {
      "text/html": [
       "<div>\n",
       "<style scoped>\n",
       "    .dataframe tbody tr th:only-of-type {\n",
       "        vertical-align: middle;\n",
       "    }\n",
       "\n",
       "    .dataframe tbody tr th {\n",
       "        vertical-align: top;\n",
       "    }\n",
       "\n",
       "    .dataframe thead th {\n",
       "        text-align: right;\n",
       "    }\n",
       "</style>\n",
       "<table border=\"1\" class=\"dataframe\">\n",
       "  <thead>\n",
       "    <tr style=\"text-align: right;\">\n",
       "      <th></th>\n",
       "      <th>cuisines</th>\n",
       "      <th>restaurant_id</th>\n",
       "    </tr>\n",
       "  </thead>\n",
       "  <tbody>\n",
       "    <tr>\n",
       "      <th>0</th>\n",
       "      <td>North Indian</td>\n",
       "      <td>317</td>\n",
       "    </tr>\n",
       "  </tbody>\n",
       "</table>\n",
       "</div>"
      ],
      "text/plain": [
       "       cuisines  restaurant_id\n",
       "0  North Indian            317"
      ]
     },
     "execution_count": 18,
     "metadata": {},
     "output_type": "execute_result"
    }
   ],
   "source": [
    "restaurantes = (df2['has_online_delivery'] == 1) & (df2['is_delivering_now'] == 1)\n",
    "df_auxn13 = df2.loc[restaurantes, ['cuisines', 'restaurant_id']].groupby('cuisines').count().sort_values('restaurant_id', ascending=False).reset_index()\n",
    "df_auxn13.head(1)"
   ]
  }
 ],
 "metadata": {
  "kernelspec": {
   "display_name": "Python 3 (ipykernel)",
   "language": "python",
   "name": "python3"
  },
  "language_info": {
   "codemirror_mode": {
    "name": "ipython",
    "version": 3
   },
   "file_extension": ".py",
   "mimetype": "text/x-python",
   "name": "python",
   "nbconvert_exporter": "python",
   "pygments_lexer": "ipython3",
   "version": "3.12.0"
  }
 },
 "nbformat": 4,
 "nbformat_minor": 5
}
